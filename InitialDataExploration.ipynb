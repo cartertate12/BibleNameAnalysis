{
 "cells": [
  {
   "cell_type": "markdown",
   "metadata": {},
   "source": [
    "# Initial Data Exploration"
   ]
  },
  {
   "cell_type": "code",
   "execution_count": 102,
   "metadata": {},
   "outputs": [],
   "source": [
    "import pandas as pd\n",
    "import bibleAnalysisFunctions as bf\n",
    "import nltk as nltk\n",
    "from nltk.corpus import stopwords\n",
    "from nltk.tokenize import word_tokenize\n",
    "import numpy as np\n",
    "\n",
    "pd.set_option('display.max_colwidth', None)\n",
    "pd.set_option('display.max_rows',None)\n",
    "\n",
    "bible_columns = ['BookChapterVerse','VerseText']\n",
    "akjv = pd.read_excel('akjv.xlsx').drop([0]).reset_index().drop(columns='index')\n",
    "akjv.columns=bible_columns\n",
    "bookChapterVerse = akjv.BookChapterVerse\n",
    "books, chapters, verses = bf.GetVerseReferences(bookChapterVerse)\n",
    "akjv['Books'] = books\n",
    "akjv['Chapters'] = chapters\n",
    "akjv['Verses'] = verses\n",
    "\n",
    "tree_words = ['tree','forest','shrug','bark','eucalyptus','oak','birch','pine','root','acacia','beech','trunk','leaf','grove','seed']\n",
    "tree_word_indicator = []\n",
    "for ele in akjv.VerseText:\n",
    "    if any(item in tree_words for item in word_tokenize(ele)):\n",
    "        tree_word_indicator.append(True)\n",
    "    else: tree_word_indicator.append(False)\n",
    "akjv['word_indicator'] = tree_word_indicator"
   ]
  },
  {
   "cell_type": "code",
   "execution_count": 103,
   "metadata": {},
   "outputs": [
    {
     "data": {
      "text/html": [
       "<div>\n",
       "<style scoped>\n",
       "    .dataframe tbody tr th:only-of-type {\n",
       "        vertical-align: middle;\n",
       "    }\n",
       "\n",
       "    .dataframe tbody tr th {\n",
       "        vertical-align: top;\n",
       "    }\n",
       "\n",
       "    .dataframe thead th {\n",
       "        text-align: right;\n",
       "    }\n",
       "</style>\n",
       "<table border=\"1\" class=\"dataframe\">\n",
       "  <thead>\n",
       "    <tr style=\"text-align: right;\">\n",
       "      <th></th>\n",
       "      <th>Chapters</th>\n",
       "      <th>VerseText</th>\n",
       "    </tr>\n",
       "  </thead>\n",
       "  <tbody>\n",
       "    <tr>\n",
       "      <th>1767</th>\n",
       "      <td>9</td>\n",
       "      <td>And the hail smote throughout all the land of Egypt all that was in the field, both man and beast; and the hail smote every herb of the field, and broke every tree of the field.</td>\n",
       "    </tr>\n",
       "    <tr>\n",
       "      <th>1782</th>\n",
       "      <td>10</td>\n",
       "      <td>And they shall cover the face of the earth, that one cannot be able to see the earth: and they shall eat the residue of that which is escaped, which remains to you from the hail, and shall eat every tree which grows for you out of the field:</td>\n",
       "    </tr>\n",
       "    <tr>\n",
       "      <th>1945</th>\n",
       "      <td>15</td>\n",
       "      <td>And he cried to the LORD; and the LORD showed him a tree, which when he had cast into the waters, the waters were made sweet: there he made for them a statute and an ordinance, and there he proved them,</td>\n",
       "    </tr>\n",
       "    <tr>\n",
       "      <th>1978</th>\n",
       "      <td>16</td>\n",
       "      <td>And the house of Israel called the name thereof Manna: and it was like coriander seed, white; and the taste of it was like wafers made with honey.</td>\n",
       "    </tr>\n",
       "    <tr>\n",
       "      <th>2155</th>\n",
       "      <td>23</td>\n",
       "      <td>But the seventh year you shall let it rest and lie still; that the poor of your people may eat: and what they leave the beasts of the field shall eat. In like manner you shall deal with your vineyard, and with your olive grove.</td>\n",
       "    </tr>\n",
       "    <tr>\n",
       "      <th>2336</th>\n",
       "      <td>28</td>\n",
       "      <td>And they shall be on Aaron, and on his sons, when they come in to the tabernacle of the congregation, or when they come near to the altar to minister in the holy place; that they bear not iniquity, and die: it shall be a statute for ever to him and his seed after him.</td>\n",
       "    </tr>\n",
       "    <tr>\n",
       "      <th>2403</th>\n",
       "      <td>30</td>\n",
       "      <td>So they shall wash their hands and their feet, that they die not: and it shall be a statute for ever to them, even to him and to his seed throughout their generations.</td>\n",
       "    </tr>\n",
       "    <tr>\n",
       "      <th>2451</th>\n",
       "      <td>32</td>\n",
       "      <td>Remember Abraham, Isaac, and Israel, your servants, to whom you swore by your own self, and said to them, I will multiply your seed as the stars of heaven, and all this land that I have spoken of will I give to your seed, and they shall inherit it for ever.</td>\n",
       "    </tr>\n",
       "    <tr>\n",
       "      <th>2474</th>\n",
       "      <td>33</td>\n",
       "      <td>And the LORD said to Moses, Depart, and go up hence, you and the people which you have brought up out of the land of Egypt, to the land which I swore to Abraham, to Isaac, and to Jacob, saying, To your seed will I give it:</td>\n",
       "    </tr>\n",
       "  </tbody>\n",
       "</table>\n",
       "</div>"
      ],
      "text/plain": [
       "     Chapters  \\\n",
       "1767        9   \n",
       "1782       10   \n",
       "1945       15   \n",
       "1978       16   \n",
       "2155       23   \n",
       "2336       28   \n",
       "2403       30   \n",
       "2451       32   \n",
       "2474       33   \n",
       "\n",
       "                                                                                                                                                                                                                                                                         VerseText  \n",
       "1767                                                                                             And the hail smote throughout all the land of Egypt all that was in the field, both man and beast; and the hail smote every herb of the field, and broke every tree of the field.  \n",
       "1782                             And they shall cover the face of the earth, that one cannot be able to see the earth: and they shall eat the residue of that which is escaped, which remains to you from the hail, and shall eat every tree which grows for you out of the field:  \n",
       "1945                                                                    And he cried to the LORD; and the LORD showed him a tree, which when he had cast into the waters, the waters were made sweet: there he made for them a statute and an ordinance, and there he proved them,  \n",
       "1978                                                                                                                            And the house of Israel called the name thereof Manna: and it was like coriander seed, white; and the taste of it was like wafers made with honey.  \n",
       "2155                                           But the seventh year you shall let it rest and lie still; that the poor of your people may eat: and what they leave the beasts of the field shall eat. In like manner you shall deal with your vineyard, and with your olive grove.  \n",
       "2336  And they shall be on Aaron, and on his sons, when they come in to the tabernacle of the congregation, or when they come near to the altar to minister in the holy place; that they bear not iniquity, and die: it shall be a statute for ever to him and his seed after him.  \n",
       "2403                                                                                                       So they shall wash their hands and their feet, that they die not: and it shall be a statute for ever to them, even to him and to his seed throughout their generations.  \n",
       "2451             Remember Abraham, Isaac, and Israel, your servants, to whom you swore by your own self, and said to them, I will multiply your seed as the stars of heaven, and all this land that I have spoken of will I give to your seed, and they shall inherit it for ever.  \n",
       "2474                                                And the LORD said to Moses, Depart, and go up hence, you and the people which you have brought up out of the land of Egypt, to the land which I swore to Abraham, to Isaac, and to Jacob, saying, To your seed will I give it:  "
      ]
     },
     "execution_count": 103,
     "metadata": {},
     "output_type": "execute_result"
    }
   ],
   "source": [
    "tree_verses = akjv[akjv.word_indicator==True]\n",
    "tree_verses[tree_verses['Books']=='Exodus'][['Chapters','VerseText']]"
   ]
  },
  {
   "cell_type": "code",
   "execution_count": 64,
   "metadata": {},
   "outputs": [
    {
     "data": {
      "text/html": [
       "<div>\n",
       "<style scoped>\n",
       "    .dataframe tbody tr th:only-of-type {\n",
       "        vertical-align: middle;\n",
       "    }\n",
       "\n",
       "    .dataframe tbody tr th {\n",
       "        vertical-align: top;\n",
       "    }\n",
       "\n",
       "    .dataframe thead th {\n",
       "        text-align: right;\n",
       "    }\n",
       "</style>\n",
       "<table border=\"1\" class=\"dataframe\">\n",
       "  <thead>\n",
       "    <tr style=\"text-align: right;\">\n",
       "      <th></th>\n",
       "      <th>BookChapterVerse</th>\n",
       "      <th>VerseText</th>\n",
       "      <th>Books</th>\n",
       "      <th>Chapters</th>\n",
       "      <th>Verses</th>\n",
       "      <th>word_indicator</th>\n",
       "    </tr>\n",
       "  </thead>\n",
       "  <tbody>\n",
       "  </tbody>\n",
       "</table>\n",
       "</div>"
      ],
      "text/plain": [
       "Empty DataFrame\n",
       "Columns: [BookChapterVerse, VerseText, Books, Chapters, Verses, word_indicator]\n",
       "Index: []"
      ]
     },
     "execution_count": 64,
     "metadata": {},
     "output_type": "execute_result"
    }
   ],
   "source": [
    "akjv[akjv.word_indicator==True]"
   ]
  },
  {
   "cell_type": "code",
   "execution_count": 61,
   "metadata": {},
   "outputs": [
    {
     "name": "stdout",
     "output_type": "stream",
     "text": [
      "True\n"
     ]
    }
   ],
   "source": [
    "## checking any elment of list_B in list_A\n",
    "list_A = [1, 2, 3, 4]\n",
    "\n",
    "list_B = [2, 3, 6]\n",
    "\n",
    "check = any(item in list_A for item in list_B)\n",
    "\n",
    "print(check)\n",
    "# True"
   ]
  },
  {
   "cell_type": "code",
   "execution_count": 84,
   "metadata": {},
   "outputs": [
    {
     "data": {
      "text/plain": [
       "True"
      ]
     },
     "execution_count": 84,
     "metadata": {},
     "output_type": "execute_result"
    }
   ],
   "source": [
    "gen11 = word_tokenize(akjv.VerseText[10])\n",
    "any(x in tree_words for x in gen11)\n"
   ]
  },
  {
   "cell_type": "markdown",
   "metadata": {},
   "source": [
    "### Ingest Bible\n",
    "Takes in American KJV and splits the verse reference into book, chapter, verse columns"
   ]
  },
  {
   "cell_type": "code",
   "execution_count": 81,
   "metadata": {},
   "outputs": [
    {
     "name": "stdout",
     "output_type": "stream",
     "text": [
      "Duplicates found.\n"
     ]
    }
   ],
   "source": [
    "list1 = ['item1','item2','item3']\n",
    "list2 = ['item4','item5','item3']\n",
    "\n",
    "if any(x in list1 for x in list2):\n",
    "    print(\"Duplicates found.\")\n",
    "else:\n",
    "    print(\"No duplicates found.\")"
   ]
  },
  {
   "cell_type": "markdown",
   "metadata": {},
   "source": [
    "### Verse Analysis Organization\n",
    "Put every word in every verse into its own column."
   ]
  },
  {
   "cell_type": "code",
   "execution_count": 21,
   "metadata": {},
   "outputs": [],
   "source": [
    "maxVerseLength = bf.GetMaxVerseLength(akjv.VerseText)"
   ]
  },
  {
   "cell_type": "markdown",
   "metadata": {},
   "source": [
    "Code below has been converted to function in functions file, but that doesn't seem to be accessible currently for some reason per the error message above."
   ]
  },
  {
   "cell_type": "code",
   "execution_count": 22,
   "metadata": {},
   "outputs": [
    {
     "data": {
      "text/plain": [
       "90"
      ]
     },
     "execution_count": 22,
     "metadata": {},
     "output_type": "execute_result"
    }
   ],
   "source": [
    "#First, find the max verse length. This will be the number of columns created\n",
    "verseTexts = akjv['VerseText']\n",
    "lenDict = {}\n",
    "counter = 0\n",
    "for ele in verseTexts:\n",
    "    temp_list = ele.split(' ') \n",
    "    lenDict[counter] = len(temp_list)\n",
    "    counter = counter + 1\n",
    "max(lenDict.values())"
   ]
  },
  {
   "cell_type": "code",
   "execution_count": 34,
   "metadata": {},
   "outputs": [],
   "source": [
    "stop_words = set(stopwords.words(\"english\"))\n"
   ]
  },
  {
   "cell_type": "code",
   "execution_count": 40,
   "metadata": {},
   "outputs": [
    {
     "data": {
      "text/plain": [
       "['The grace of our Lord Jesus Christ be with you all. Amen.',\n",
       " 'The grace of our Lord Jesus Christ be with you all. Amen.',\n",
       " 'The grace of our Lord Jesus Christ be with you all. Amen.',\n",
       " 'The grace of our Lord Jesus Christ be with you all. Amen.',\n",
       " 'The grace of our Lord Jesus Christ be with you all. Amen.',\n",
       " 'The grace of our Lord Jesus Christ be with you all. Amen.',\n",
       " 'The grace of our Lord Jesus Christ be with you all. Amen.',\n",
       " 'The grace of our Lord Jesus Christ be with you all. Amen.',\n",
       " 'The grace of our Lord Jesus Christ be with you all. Amen.',\n",
       " 'The grace of our Lord Jesus Christ be with you all. Amen.',\n",
       " 'The grace of our Lord Jesus Christ be with you all. Amen.',\n",
       " 'The grace of our Lord Jesus Christ be with you all. Amen.',\n",
       " 'The grace of our Lord Jesus Christ be with you all. Amen.',\n",
       " 'The grace of our Lord Jesus Christ be with you all. Amen.',\n",
       " 'The grace of our Lord Jesus Christ be with you all. Amen.',\n",
       " 'The grace of our Lord Jesus Christ be with you all. Amen.',\n",
       " 'The grace of our Lord Jesus Christ be with you all. Amen.',\n",
       " 'The grace of our Lord Jesus Christ be with you all. Amen.']"
      ]
     },
     "execution_count": 40,
     "metadata": {},
     "output_type": "execute_result"
    }
   ],
   "source": [
    "verse_no_stopwords = []\n",
    "for verse in akjv.VerseText:\n",
    "    wordList = []\n",
    "    for word in word_tokenize(verse):\n",
    "        if word not in stop_words:\n",
    "            wordList.append(ele)\n",
    "    verse_no_stopwords.append(wordList)\n",
    "akjv['verse_no_stopwords'] = verse_no_stopwords\n",
    "akjv.verse_no_stopwords[1]\n"
   ]
  },
  {
   "cell_type": "code",
   "execution_count": 27,
   "metadata": {},
   "outputs": [
    {
     "data": {
      "text/plain": [
       "{'a',\n",
       " 'about',\n",
       " 'above',\n",
       " 'after',\n",
       " 'again',\n",
       " 'against',\n",
       " 'ain',\n",
       " 'all',\n",
       " 'am',\n",
       " 'an',\n",
       " 'and',\n",
       " 'any',\n",
       " 'are',\n",
       " 'aren',\n",
       " \"aren't\",\n",
       " 'as',\n",
       " 'at',\n",
       " 'be',\n",
       " 'because',\n",
       " 'been',\n",
       " 'before',\n",
       " 'being',\n",
       " 'below',\n",
       " 'between',\n",
       " 'both',\n",
       " 'but',\n",
       " 'by',\n",
       " 'can',\n",
       " 'couldn',\n",
       " \"couldn't\",\n",
       " 'd',\n",
       " 'did',\n",
       " 'didn',\n",
       " \"didn't\",\n",
       " 'do',\n",
       " 'does',\n",
       " 'doesn',\n",
       " \"doesn't\",\n",
       " 'doing',\n",
       " 'don',\n",
       " \"don't\",\n",
       " 'down',\n",
       " 'during',\n",
       " 'each',\n",
       " 'few',\n",
       " 'for',\n",
       " 'from',\n",
       " 'further',\n",
       " 'had',\n",
       " 'hadn',\n",
       " \"hadn't\",\n",
       " 'has',\n",
       " 'hasn',\n",
       " \"hasn't\",\n",
       " 'have',\n",
       " 'haven',\n",
       " \"haven't\",\n",
       " 'having',\n",
       " 'he',\n",
       " 'her',\n",
       " 'here',\n",
       " 'hers',\n",
       " 'herself',\n",
       " 'him',\n",
       " 'himself',\n",
       " 'his',\n",
       " 'how',\n",
       " 'i',\n",
       " 'if',\n",
       " 'in',\n",
       " 'into',\n",
       " 'is',\n",
       " 'isn',\n",
       " \"isn't\",\n",
       " 'it',\n",
       " \"it's\",\n",
       " 'its',\n",
       " 'itself',\n",
       " 'just',\n",
       " 'll',\n",
       " 'm',\n",
       " 'ma',\n",
       " 'me',\n",
       " 'mightn',\n",
       " \"mightn't\",\n",
       " 'more',\n",
       " 'most',\n",
       " 'mustn',\n",
       " \"mustn't\",\n",
       " 'my',\n",
       " 'myself',\n",
       " 'needn',\n",
       " \"needn't\",\n",
       " 'no',\n",
       " 'nor',\n",
       " 'not',\n",
       " 'now',\n",
       " 'o',\n",
       " 'of',\n",
       " 'off',\n",
       " 'on',\n",
       " 'once',\n",
       " 'only',\n",
       " 'or',\n",
       " 'other',\n",
       " 'our',\n",
       " 'ours',\n",
       " 'ourselves',\n",
       " 'out',\n",
       " 'over',\n",
       " 'own',\n",
       " 're',\n",
       " 's',\n",
       " 'same',\n",
       " 'shan',\n",
       " \"shan't\",\n",
       " 'she',\n",
       " \"she's\",\n",
       " 'should',\n",
       " \"should've\",\n",
       " 'shouldn',\n",
       " \"shouldn't\",\n",
       " 'so',\n",
       " 'some',\n",
       " 'such',\n",
       " 't',\n",
       " 'than',\n",
       " 'that',\n",
       " \"that'll\",\n",
       " 'the',\n",
       " 'their',\n",
       " 'theirs',\n",
       " 'them',\n",
       " 'themselves',\n",
       " 'then',\n",
       " 'there',\n",
       " 'these',\n",
       " 'they',\n",
       " 'this',\n",
       " 'those',\n",
       " 'through',\n",
       " 'to',\n",
       " 'too',\n",
       " 'under',\n",
       " 'until',\n",
       " 'up',\n",
       " 've',\n",
       " 'very',\n",
       " 'was',\n",
       " 'wasn',\n",
       " \"wasn't\",\n",
       " 'we',\n",
       " 'were',\n",
       " 'weren',\n",
       " \"weren't\",\n",
       " 'what',\n",
       " 'when',\n",
       " 'where',\n",
       " 'which',\n",
       " 'while',\n",
       " 'who',\n",
       " 'whom',\n",
       " 'why',\n",
       " 'will',\n",
       " 'with',\n",
       " 'won',\n",
       " \"won't\",\n",
       " 'wouldn',\n",
       " \"wouldn't\",\n",
       " 'y',\n",
       " 'you',\n",
       " \"you'd\",\n",
       " \"you'll\",\n",
       " \"you're\",\n",
       " \"you've\",\n",
       " 'your',\n",
       " 'yours',\n",
       " 'yourself',\n",
       " 'yourselves'}"
      ]
     },
     "execution_count": 27,
     "metadata": {},
     "output_type": "execute_result"
    }
   ],
   "source": [
    "stop_words"
   ]
  },
  {
   "cell_type": "markdown",
   "metadata": {},
   "source": [
    "Code to import other bibles; will uniformly apply transformations to these once they have been worked through on the ajkv bible above."
   ]
  },
  {
   "cell_type": "code",
   "execution_count": 10,
   "metadata": {},
   "outputs": [],
   "source": [
    "asv = pd.read_excel('asv.xlsx')\n",
    "bsb = pd.read_excel('bsb.xlsx')\n",
    "cpdv = pd.read_excel('cpdv.xlsx')\n",
    "kjv = pd.read_excel('kjv.xlsx')\n",
    "ylt = pd.read_excel('ylt.xlsx')"
   ]
  }
 ],
 "metadata": {
  "interpreter": {
   "hash": "40d3a090f54c6569ab1632332b64b2c03c39dcf918b08424e98f38b5ae0af88f"
  },
  "kernelspec": {
   "display_name": "Python 3.8.3 64-bit ('base': conda)",
   "language": "python",
   "name": "python3"
  },
  "language_info": {
   "codemirror_mode": {
    "name": "ipython",
    "version": 3
   },
   "file_extension": ".py",
   "mimetype": "text/x-python",
   "name": "python",
   "nbconvert_exporter": "python",
   "pygments_lexer": "ipython3",
   "version": "3.8.3"
  },
  "orig_nbformat": 4
 },
 "nbformat": 4,
 "nbformat_minor": 2
}
