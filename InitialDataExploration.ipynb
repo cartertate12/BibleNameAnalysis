{
 "cells": [
  {
   "cell_type": "markdown",
   "metadata": {},
   "source": [
    "## Imports and Jupyter Config"
   ]
  },
  {
   "cell_type": "code",
   "execution_count": 215,
   "metadata": {},
   "outputs": [
    {
     "ename": "ImportError",
     "evalue": "cannot import name 'WordCloud' from 'word_cloud' (unknown location)",
     "output_type": "error",
     "traceback": [
      "\u001b[0;31m---------------------------------------------------------------------------\u001b[0m",
      "\u001b[0;31mImportError\u001b[0m                               Traceback (most recent call last)",
      "\u001b[0;32m/var/folders/rd/jrgkfsxj3532f762zr_v76500000gn/T/ipykernel_94045/3645535510.py\u001b[0m in \u001b[0;36m<module>\u001b[0;34m\u001b[0m\n\u001b[1;32m     12\u001b[0m \u001b[0;32mimport\u001b[0m \u001b[0mos\u001b[0m\u001b[0;34m\u001b[0m\u001b[0;34m\u001b[0m\u001b[0m\n\u001b[1;32m     13\u001b[0m \u001b[0;32mimport\u001b[0m \u001b[0mmatplotlib\u001b[0m\u001b[0;34m.\u001b[0m\u001b[0mpyplot\u001b[0m \u001b[0;32mas\u001b[0m \u001b[0mplt\u001b[0m\u001b[0;34m\u001b[0m\u001b[0;34m\u001b[0m\u001b[0m\n\u001b[0;32m---> 14\u001b[0;31m \u001b[0;32mfrom\u001b[0m \u001b[0mword_cloud\u001b[0m \u001b[0;32mimport\u001b[0m \u001b[0mWordCloud\u001b[0m\u001b[0;34m\u001b[0m\u001b[0;34m\u001b[0m\u001b[0m\n\u001b[0m\u001b[1;32m     15\u001b[0m \u001b[0;34m\u001b[0m\u001b[0m\n\u001b[1;32m     16\u001b[0m \u001b[0;31m#set options\u001b[0m\u001b[0;34m\u001b[0m\u001b[0;34m\u001b[0m\u001b[0;34m\u001b[0m\u001b[0m\n",
      "\u001b[0;31mImportError\u001b[0m: cannot import name 'WordCloud' from 'word_cloud' (unknown location)"
     ]
    }
   ],
   "source": [
    "#general imports\n",
    "import pandas as pd\n",
    "import numpy as np\n",
    "\n",
    "#nltk imports\n",
    "import nltk as nltk\n",
    "from nltk.corpus import stopwords\n",
    "from nltk.tokenize import word_tokenize\n",
    "from nltk.stem import PorterStemmer\n",
    "\n",
    "#wordcloud imports\n",
    "import os\n",
    "import matplotlib.pyplot as plt\n",
    "\n",
    "\n",
    "#set options\n",
    "pd.set_option('display.max_colwidth', None)\n",
    "pd.set_option('display.max_rows',None)"
   ]
  },
  {
   "cell_type": "markdown",
   "metadata": {},
   "source": [
    "## Functions to be Reused"
   ]
  },
  {
   "cell_type": "code",
   "execution_count": 204,
   "metadata": {},
   "outputs": [],
   "source": [
    "def GetVerseReferences(verseReferenceListing):\n",
    "    '''Given a book, chapter, verse listing, return three lists that contain those elements broken out in that order.'''\n",
    "    \n",
    "    verseReferenceListing = [ele[::-1] for ele in verseReferenceListing]\n",
    "    \n",
    "    verses = []\n",
    "    chapters = []\n",
    "    books = []\n",
    "\n",
    "    for ele in verseReferenceListing:\n",
    "        temp_list_1 = ele.split(':')\n",
    "        verses.append(temp_list_1[0][::-1])\n",
    "        temp_list_2 = temp_list_1[1].split(' ',1)\n",
    "        chapters.append(temp_list_2[0][::-1])\n",
    "        books.append(temp_list_2[1][::-1])\n",
    "\n",
    "    return books, chapters, verses\n",
    "\n",
    "def GetMaxVerseLength(verseListing):\n",
    "    '''Given a list of verse texts, return the maximum verse length in terms of word count along with a dictionary of verse references and their lengths'''\n",
    "    lenDict = {}\n",
    "    counter = 0\n",
    "    for ele in verseListing:\n",
    "        temp_list = ele.split(' ') \n",
    "        lenDict[counter] = len(temp_list)\n",
    "        counter = counter + 1\n",
    "    maxLen = max(lenDict.values())\n",
    "    return maxLen, lenDict\n",
    "\n",
    "def IndicateWordPresence(bible_dataframe_verse_series, word_list):\n",
    "    '''given a dataframe column containing verse texts and a list of pertinent words, return a column as a list that indicates for each verse whether one of those words is present --- boolean column'''\n",
    "    word_indicator = [] #initialize list indicating whether words are present in verses\n",
    "    for ele in bible_dataframe_verse_series:\n",
    "        if any(item in word_list for item in word_tokenize(ele)):\n",
    "            word_indicator.append(True)\n",
    "        else: word_indicator.append(False)\n",
    "    return word_indicator\n",
    "\n",
    "def LoadBible(bible_excel_file):\n",
    "    '''given an excel file containing the bible, return a dataframe for analysis'''\n",
    "    \n",
    "    #generally format intake\n",
    "    bible_columns = 'BookChapterVerse','VerseText'\n",
    "    bible = pd.read_excel(bible_excel_file).drop([0]).reset_index(drop=True)\n",
    "    bible.columns = bible_columns\n",
    "    bookChapterVerse = bible.BookChapterVerse\n",
    "    book, chapter, verse = GetVerseReferences(bookChapterVerse)\n",
    "    bible['Book'] = book\n",
    "    bible['Chapter'] = chapter\n",
    "    bible['Verse'] = verse\n",
    "\n",
    "    #trim verses to key words\n",
    "    stop_words = list(stopwords.words('english'))\n",
    "    stop_words.extend([',','.',';',':']) #add extra symbols to be removed\n",
    "    verse_text_no_stopwords = []\n",
    "    for verse in bible.VerseText:\n",
    "        verse_words = []\n",
    "        for word in word_tokenize(verse):\n",
    "            if word.casefold() not in stop_words:\n",
    "                verse_words.append(word.lower())\n",
    "        verse_text_no_stopwords.append(verse_words)\n",
    "    bible['VerseText_noStopWords'] = verse_text_no_stopwords\n",
    "\n",
    "    stemmer = PorterStemmer()\n",
    "    verses_stemmed = []\n",
    "    for verse in verse_text_no_stopwords:\n",
    "        verse_stemmed = []\n",
    "        for word in verse:\n",
    "            verse_stemmed.append(stemmer.stem(word))\n",
    "        verses_stemmed.append(verse_stemmed)\n",
    "    bible['VerseText_noStopWords_stemmed'] = verses_stemmed\n",
    "    return bible"
   ]
  },
  {
   "cell_type": "markdown",
   "metadata": {},
   "source": [
    "## User Variables to be Referenced"
   ]
  },
  {
   "cell_type": "code",
   "execution_count": 156,
   "metadata": {},
   "outputs": [],
   "source": [
    "tree_words = ['tree','forest','shrug','bark','eucalyptus','oak','birch','pine','root','acacia','beech','trunk','leaf','grove','seed']"
   ]
  },
  {
   "cell_type": "markdown",
   "metadata": {},
   "source": [
    "## Iterative Exploratory Analysis"
   ]
  },
  {
   "cell_type": "code",
   "execution_count": 205,
   "metadata": {},
   "outputs": [],
   "source": [
    "akjv = LoadBible('akjv.xlsx')\n",
    "# asv = LoadBible('asv.xlsx')\n",
    "# bsb = LoadBible('bsb.xlsx')\n",
    "# cpdv = LoadBible('cpdv.xlsx')\n",
    "# kjv = LoadBible('kjv.xlsx')\n",
    "# ylt = LoadBible('ylt.xlsx')"
   ]
  },
  {
   "cell_type": "code",
   "execution_count": 206,
   "metadata": {},
   "outputs": [
    {
     "data": {
      "text/html": [
       "<div>\n",
       "<style scoped>\n",
       "    .dataframe tbody tr th:only-of-type {\n",
       "        vertical-align: middle;\n",
       "    }\n",
       "\n",
       "    .dataframe tbody tr th {\n",
       "        vertical-align: top;\n",
       "    }\n",
       "\n",
       "    .dataframe thead th {\n",
       "        text-align: right;\n",
       "    }\n",
       "</style>\n",
       "<table border=\"1\" class=\"dataframe\">\n",
       "  <thead>\n",
       "    <tr style=\"text-align: right;\">\n",
       "      <th></th>\n",
       "      <th>BookChapterVerse</th>\n",
       "      <th>VerseText</th>\n",
       "      <th>Book</th>\n",
       "      <th>Chapter</th>\n",
       "      <th>Verse</th>\n",
       "      <th>VerseText_noStopWords</th>\n",
       "      <th>VerseText_noStopWords_stemmed</th>\n",
       "    </tr>\n",
       "  </thead>\n",
       "  <tbody>\n",
       "    <tr>\n",
       "      <th>0</th>\n",
       "      <td>Genesis 1:1</td>\n",
       "      <td>In the beginning God created the heaven and the earth.</td>\n",
       "      <td>Genesis</td>\n",
       "      <td>1</td>\n",
       "      <td>1</td>\n",
       "      <td>[beginning, god, created, heaven, earth]</td>\n",
       "      <td>[begin, god, creat, heaven, earth]</td>\n",
       "    </tr>\n",
       "    <tr>\n",
       "      <th>1</th>\n",
       "      <td>Genesis 1:2</td>\n",
       "      <td>And the earth was without form, and void; and darkness was on the face of the deep. And the Spirit of God moved on the face of the waters.</td>\n",
       "      <td>Genesis</td>\n",
       "      <td>1</td>\n",
       "      <td>2</td>\n",
       "      <td>[earth, without, form, void, darkness, face, deep, spirit, god, moved, face, waters]</td>\n",
       "      <td>[earth, without, form, void, dark, face, deep, spirit, god, move, face, water]</td>\n",
       "    </tr>\n",
       "    <tr>\n",
       "      <th>2</th>\n",
       "      <td>Genesis 1:3</td>\n",
       "      <td>And God said, Let there be light: and there was light.</td>\n",
       "      <td>Genesis</td>\n",
       "      <td>1</td>\n",
       "      <td>3</td>\n",
       "      <td>[god, said, let, light, light]</td>\n",
       "      <td>[god, said, let, light, light]</td>\n",
       "    </tr>\n",
       "    <tr>\n",
       "      <th>3</th>\n",
       "      <td>Genesis 1:4</td>\n",
       "      <td>And God saw the light, that it was good: and God divided the light from the darkness.</td>\n",
       "      <td>Genesis</td>\n",
       "      <td>1</td>\n",
       "      <td>4</td>\n",
       "      <td>[god, saw, light, good, god, divided, light, darkness]</td>\n",
       "      <td>[god, saw, light, good, god, divid, light, dark]</td>\n",
       "    </tr>\n",
       "    <tr>\n",
       "      <th>4</th>\n",
       "      <td>Genesis 1:5</td>\n",
       "      <td>And God called the light Day, and the darkness he called Night. And the evening and the morning were the first day.</td>\n",
       "      <td>Genesis</td>\n",
       "      <td>1</td>\n",
       "      <td>5</td>\n",
       "      <td>[god, called, light, day, darkness, called, night, evening, morning, first, day]</td>\n",
       "      <td>[god, call, light, day, dark, call, night, even, morn, first, day]</td>\n",
       "    </tr>\n",
       "  </tbody>\n",
       "</table>\n",
       "</div>"
      ],
      "text/plain": [
       "  BookChapterVerse  \\\n",
       "0      Genesis 1:1   \n",
       "1      Genesis 1:2   \n",
       "2      Genesis 1:3   \n",
       "3      Genesis 1:4   \n",
       "4      Genesis 1:5   \n",
       "\n",
       "                                                                                                                                    VerseText  \\\n",
       "0                                                                                      In the beginning God created the heaven and the earth.   \n",
       "1  And the earth was without form, and void; and darkness was on the face of the deep. And the Spirit of God moved on the face of the waters.   \n",
       "2                                                                                      And God said, Let there be light: and there was light.   \n",
       "3                                                       And God saw the light, that it was good: and God divided the light from the darkness.   \n",
       "4                         And God called the light Day, and the darkness he called Night. And the evening and the morning were the first day.   \n",
       "\n",
       "      Book Chapter Verse  \\\n",
       "0  Genesis       1     1   \n",
       "1  Genesis       1     2   \n",
       "2  Genesis       1     3   \n",
       "3  Genesis       1     4   \n",
       "4  Genesis       1     5   \n",
       "\n",
       "                                                                  VerseText_noStopWords  \\\n",
       "0                                              [beginning, god, created, heaven, earth]   \n",
       "1  [earth, without, form, void, darkness, face, deep, spirit, god, moved, face, waters]   \n",
       "2                                                        [god, said, let, light, light]   \n",
       "3                                [god, saw, light, good, god, divided, light, darkness]   \n",
       "4      [god, called, light, day, darkness, called, night, evening, morning, first, day]   \n",
       "\n",
       "                                                    VerseText_noStopWords_stemmed  \n",
       "0                                              [begin, god, creat, heaven, earth]  \n",
       "1  [earth, without, form, void, dark, face, deep, spirit, god, move, face, water]  \n",
       "2                                                  [god, said, let, light, light]  \n",
       "3                                [god, saw, light, good, god, divid, light, dark]  \n",
       "4              [god, call, light, day, dark, call, night, even, morn, first, day]  "
      ]
     },
     "execution_count": 206,
     "metadata": {},
     "output_type": "execute_result"
    }
   ],
   "source": [
    "akjv.head()"
   ]
  }
 ],
 "metadata": {
  "interpreter": {
   "hash": "40d3a090f54c6569ab1632332b64b2c03c39dcf918b08424e98f38b5ae0af88f"
  },
  "kernelspec": {
   "display_name": "Python 3.8.3 64-bit ('base': conda)",
   "language": "python",
   "name": "python3"
  },
  "language_info": {
   "codemirror_mode": {
    "name": "ipython",
    "version": 3
   },
   "file_extension": ".py",
   "mimetype": "text/x-python",
   "name": "python",
   "nbconvert_exporter": "python",
   "pygments_lexer": "ipython3",
   "version": "3.8.3"
  },
  "orig_nbformat": 4
 },
 "nbformat": 4,
 "nbformat_minor": 2
}
