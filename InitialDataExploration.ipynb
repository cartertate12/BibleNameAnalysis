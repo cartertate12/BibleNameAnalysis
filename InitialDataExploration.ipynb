{
 "cells": [
  {
   "cell_type": "markdown",
   "metadata": {},
   "source": [
    "# Initial Data Exploration"
   ]
  },
  {
   "cell_type": "code",
   "execution_count": 94,
   "metadata": {},
   "outputs": [],
   "source": [
    "import pandas as pd\n",
    "import bibleAnalysisFunctions as bf"
   ]
  },
  {
   "cell_type": "markdown",
   "metadata": {},
   "source": [
    "### Ingest Bible\n",
    "Takes in American KJV and splits the verse reference into book, chapter, verse columns"
   ]
  },
  {
   "cell_type": "code",
   "execution_count": 95,
   "metadata": {},
   "outputs": [],
   "source": [
    "bible_columns = ['BookChapterVerse','VerseText']\n",
    "akjv = pd.read_excel('akjv.xlsx').drop([0]).reset_index().drop(columns='index')\n",
    "akjv.columns=bible_columns\n",
    "bookChapterVerse = akjv.BookChapterVerse\n",
    "books, chapters, verses = bf.GetVerseReferences(bookChapterVerse)\n",
    "akjv['Books'] = books\n",
    "akjv['Chapters'] = chapters\n",
    "akjv['Verses'] = verses\n"
   ]
  },
  {
   "cell_type": "markdown",
   "metadata": {},
   "source": [
    "### Verse Analysis Organization\n",
    "Put every word in every verse into its own column."
   ]
  },
  {
   "cell_type": "code",
   "execution_count": 96,
   "metadata": {},
   "outputs": [
    {
     "ename": "AttributeError",
     "evalue": "module 'bibleAnalysisFunctions' has no attribute 'GetMaxVerseLength'",
     "output_type": "error",
     "traceback": [
      "\u001b[0;31m---------------------------------------------------------------------------\u001b[0m",
      "\u001b[0;31mAttributeError\u001b[0m                            Traceback (most recent call last)",
      "\u001b[0;32m<ipython-input-96-ef3aafa46d99>\u001b[0m in \u001b[0;36m<module>\u001b[0;34m\u001b[0m\n\u001b[0;32m----> 1\u001b[0;31m \u001b[0mmaxVerseLength\u001b[0m \u001b[0;34m=\u001b[0m \u001b[0mbf\u001b[0m\u001b[0;34m.\u001b[0m\u001b[0mGetMaxVerseLength\u001b[0m\u001b[0;34m(\u001b[0m\u001b[0makjv\u001b[0m\u001b[0;34m.\u001b[0m\u001b[0mVerseText\u001b[0m\u001b[0;34m)\u001b[0m\u001b[0;34m\u001b[0m\u001b[0;34m\u001b[0m\u001b[0m\n\u001b[0m",
      "\u001b[0;31mAttributeError\u001b[0m: module 'bibleAnalysisFunctions' has no attribute 'GetMaxVerseLength'"
     ]
    }
   ],
   "source": [
    "maxVerseLength = bf.GetMaxVerseLength(akjv.VerseText)"
   ]
  },
  {
   "cell_type": "markdown",
   "metadata": {},
   "source": [
    "Code below has been converted to function in functions file, but that doesn't seem to be accessible currently for some reason per the error message above."
   ]
  },
  {
   "cell_type": "code",
   "execution_count": 82,
   "metadata": {},
   "outputs": [
    {
     "data": {
      "text/plain": [
       "90"
      ]
     },
     "execution_count": 82,
     "metadata": {},
     "output_type": "execute_result"
    }
   ],
   "source": [
    "#First, find the max verse length. This will be the number of columns created\n",
    "verseTexts = akjv['VerseText']\n",
    "lenDict = {}\n",
    "counter = 0\n",
    "for ele in verseTexts:\n",
    "    temp_list = ele.split(' ') \n",
    "    lenDict[counter] = len(temp_list)\n",
    "    counter = counter + 1\n",
    "max(lenDict.values())"
   ]
  },
  {
   "cell_type": "markdown",
   "metadata": {},
   "source": [
    "Code to import other bibles; will uniformly apply transformations to these once they have been worked through on the ajkv bible above."
   ]
  },
  {
   "cell_type": "code",
   "execution_count": 10,
   "metadata": {},
   "outputs": [],
   "source": [
    "asv = pd.read_excel('asv.xlsx')\n",
    "bsb = pd.read_excel('bsb.xlsx')\n",
    "cpdv = pd.read_excel('cpdv.xlsx')\n",
    "kjv = pd.read_excel('kjv.xlsx')\n",
    "ylt = pd.read_excel('ylt.xlsx')"
   ]
  }
 ],
 "metadata": {
  "interpreter": {
   "hash": "40d3a090f54c6569ab1632332b64b2c03c39dcf918b08424e98f38b5ae0af88f"
  },
  "kernelspec": {
   "display_name": "Python 3.8.3 64-bit ('base': conda)",
   "language": "python",
   "name": "python3"
  },
  "language_info": {
   "codemirror_mode": {
    "name": "ipython",
    "version": 3
   },
   "file_extension": ".py",
   "mimetype": "text/x-python",
   "name": "python",
   "nbconvert_exporter": "python",
   "pygments_lexer": "ipython3",
   "version": "3.8.3"
  },
  "orig_nbformat": 4
 },
 "nbformat": 4,
 "nbformat_minor": 2
}
