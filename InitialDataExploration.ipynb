{
 "cells": [
  {
   "cell_type": "markdown",
   "metadata": {},
   "source": [
    "## Imports"
   ]
  },
  {
   "cell_type": "code",
   "execution_count": 132,
   "metadata": {},
   "outputs": [],
   "source": [
    "import pandas as pd\n",
    "import bibleAnalysisFunctions as bf\n",
    "import nltk as nltk\n",
    "from nltk.corpus import stopwords\n",
    "from nltk.tokenize import word_tokenize\n",
    "import numpy as np\n",
    "\n",
    "\n",
    "pd.set_option('display.max_colwidth', None)\n",
    "pd.set_option('display.max_rows',None)\n"
   ]
  },
  {
   "cell_type": "markdown",
   "metadata": {},
   "source": [
    "## Functions to be Reused"
   ]
  },
  {
   "cell_type": "code",
   "execution_count": 125,
   "metadata": {},
   "outputs": [],
   "source": [
    "def GetVerseReferences(verseReferenceListing):\n",
    "    '''Given a book, chapter, verse listing, return three lists that contain those elements broken out in that order.'''\n",
    "    \n",
    "    verseReferenceListing = [ele[::-1] for ele in verseReferenceListing]\n",
    "    \n",
    "    verses = []\n",
    "    chapters = []\n",
    "    books = []\n",
    "\n",
    "    for ele in verseReferenceListing:\n",
    "        temp_list_1 = ele.split(':')\n",
    "        verses.append(temp_list_1[0][::-1])\n",
    "        temp_list_2 = temp_list_1[1].split(' ',1)\n",
    "        chapters.append(temp_list_2[0][::-1])\n",
    "        books.append(temp_list_2[1][::-1])\n",
    "\n",
    "    return books, chapters, verses\n",
    "\n",
    "def GetMaxVerseLength(verseListing):\n",
    "    '''Given a list of verse texts, return the maximum verse length in terms of word count along with a dictionary of verse references and their lengths'''\n",
    "    lenDict = {}\n",
    "    counter = 0\n",
    "    for ele in verseListing:\n",
    "        temp_list = ele.split(' ') \n",
    "        lenDict[counter] = len(temp_list)\n",
    "        counter = counter + 1\n",
    "    maxLen = max(lenDict.values())\n",
    "    return maxLen, lenDict\n",
    "\n",
    "def IndicateWordPresence(bible_dataframe_verse_series, word_list):\n",
    "    '''given a dataframe column containing verse texts and a list of pertinent words, return a column as a list that indicates for each verse whether one of those words is present --- boolean column'''\n",
    "    word_indicator = [] #initialize list indicating whether words are present in verses\n",
    "    for ele in bible_dataframe_verse_series:\n",
    "        if any(item in word_list for item in word_tokenize(ele)):\n",
    "            word_indicator.append(True)\n",
    "        else: word_indicator.append(False)\n",
    "    return word_indicator\n",
    "\n",
    "def LoadBible(bible_excel_file):\n",
    "    '''given an excel file containing the bible, return a dataframe for analysis'''\n",
    "    bible_columns = 'BookChapterVerse','VerseText'\n",
    "    bible = pd.read_excel(bible_excel_file).drop([0]).reset_index(drop=True)\n",
    "    bible.columns = bible_columns\n",
    "    bookChapterVerse = bible.BookChapterVerse\n",
    "    book, chapter, verse = GetVerseReferences(bookChapterVerse)\n",
    "    bible['Book'] = book\n",
    "    bible['Chapter'] = chapter\n",
    "    bible['Verse'] = verse\n",
    "    return bible"
   ]
  },
  {
   "cell_type": "markdown",
   "metadata": {},
   "source": [
    "## Variables to be Referenced"
   ]
  },
  {
   "cell_type": "code",
   "execution_count": null,
   "metadata": {},
   "outputs": [],
   "source": [
    "tree_words = ['tree','forest','shrug','bark','eucalyptus','oak','birch','pine','root','acacia','beech','trunk','leaf','grove','seed']"
   ]
  },
  {
   "cell_type": "markdown",
   "metadata": {},
   "source": [
    "## Iterative Exploratory Analysis"
   ]
  },
  {
   "cell_type": "code",
   "execution_count": 128,
   "metadata": {},
   "outputs": [],
   "source": [
    "akjv = LoadBible('akjv.xlsx')\n",
    "asv = LoadBible('asv.xlsx')\n",
    "# bsb = LoadBible('bsb.xlsx')\n",
    "cpdv = LoadBible('cpdv.xlsx')\n",
    "kjv = LoadBible('kjv.xlsx')\n",
    "ylt = LoadBible('ylt.xlsx')\n",
    "\n",
    "\n",
    "akjv['tree_word_indicator'] = IndicateWordPresence(akjv.VerseText,tree_words)\n",
    "akjv['light_dark_word_indicator'] = IndicateWordPresence(akjv.VerseText,['light','dark'])"
   ]
  }
 ],
 "metadata": {
  "interpreter": {
   "hash": "40d3a090f54c6569ab1632332b64b2c03c39dcf918b08424e98f38b5ae0af88f"
  },
  "kernelspec": {
   "display_name": "Python 3.8.3 64-bit ('base': conda)",
   "language": "python",
   "name": "python3"
  },
  "language_info": {
   "codemirror_mode": {
    "name": "ipython",
    "version": 3
   },
   "file_extension": ".py",
   "mimetype": "text/x-python",
   "name": "python",
   "nbconvert_exporter": "python",
   "pygments_lexer": "ipython3",
   "version": "3.8.3"
  },
  "orig_nbformat": 4
 },
 "nbformat": 4,
 "nbformat_minor": 2
}
